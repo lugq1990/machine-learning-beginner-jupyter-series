{
 "cells": [
  {
   "cell_type": "code",
   "execution_count": 1,
   "metadata": {},
   "outputs": [],
   "source": [
    "import numpy as np\n",
    "import pandas as pd\n",
    "from collections import Counter\n",
    "\n",
    "import warnings\n",
    "warnings.simplefilter('ignore')"
   ]
  },
  {
   "cell_type": "code",
   "execution_count": 2,
   "metadata": {},
   "outputs": [
    {
     "output_type": "execute_result",
     "data": {
      "text/plain": [
       "   a  b  c  label\n",
       "0  1  1  0      1\n",
       "1  0  1  0      0\n",
       "2  0  1  1      1\n",
       "3  0  1  1      0\n",
       "4  0  0  1      1"
      ],
      "text/html": "<div>\n<style scoped>\n    .dataframe tbody tr th:only-of-type {\n        vertical-align: middle;\n    }\n\n    .dataframe tbody tr th {\n        vertical-align: top;\n    }\n\n    .dataframe thead th {\n        text-align: right;\n    }\n</style>\n<table border=\"1\" class=\"dataframe\">\n  <thead>\n    <tr style=\"text-align: right;\">\n      <th></th>\n      <th>a</th>\n      <th>b</th>\n      <th>c</th>\n      <th>label</th>\n    </tr>\n  </thead>\n  <tbody>\n    <tr>\n      <th>0</th>\n      <td>1</td>\n      <td>1</td>\n      <td>0</td>\n      <td>1</td>\n    </tr>\n    <tr>\n      <th>1</th>\n      <td>0</td>\n      <td>1</td>\n      <td>0</td>\n      <td>0</td>\n    </tr>\n    <tr>\n      <th>2</th>\n      <td>0</td>\n      <td>1</td>\n      <td>1</td>\n      <td>1</td>\n    </tr>\n    <tr>\n      <th>3</th>\n      <td>0</td>\n      <td>1</td>\n      <td>1</td>\n      <td>0</td>\n    </tr>\n    <tr>\n      <th>4</th>\n      <td>0</td>\n      <td>0</td>\n      <td>1</td>\n      <td>1</td>\n    </tr>\n  </tbody>\n</table>\n</div>"
     },
     "metadata": {},
     "execution_count": 2
    }
   ],
   "source": [
    "cols = ['a', 'b', 'c', 'label']\n",
    "\n",
    "df = pd.DataFrame(np.random.randint(0, 2, size=(20, len(cols))), columns=cols)\n",
    "df.head()"
   ]
  },
  {
   "cell_type": "code",
   "execution_count": 3,
   "metadata": {},
   "outputs": [
    {
     "output_type": "stream",
     "name": "stdout",
     "text": [
      "Gini for a is 0.4547619047619048\nGini for b is 0.4833333333333334\nGini for c is 0.41978021978021984\nGini for label is 0.0\n"
     ]
    }
   ],
   "source": [
    "# compute gini for two features\n",
    "gini_list = []\n",
    "for col in df.columns:\n",
    "    gini = 0\n",
    "    for f in df[col].unique():\n",
    "        tmp_df = df.loc[df[col] == f, 'label']\n",
    "        times = Counter(tmp_df)\n",
    "        total  = sum(times.values())\n",
    "        # gini = 1 - sum(prob**2)\n",
    "        gini_part = np.sum([(v / total)**2 for v in times.values()])\n",
    "        # add with weight\n",
    "        gini_part *= len(tmp_df) / (len(df))\n",
    "        gini += gini_part\n",
    "    print(\"Gini for {} is {}\".format(col, (1 - gini)))\n",
    "    gini_list.append(gini)\n",
    "    "
   ]
  },
  {
   "cell_type": "code",
   "execution_count": 4,
   "metadata": {},
   "outputs": [],
   "source": [
    "def compute_gini(df, col_fomula):\n",
    "    tmp_df = df.loc[col_fomula, 'label']\n",
    "    times = Counter(df)\n",
    "    total = sum(times.values())\n",
    "    gini = len(tmp_df) / len(df) * (1 - np.sum([ (v / total)**2 for v in times.values()]))\n",
    "    return gini\n",
    "    "
   ]
  },
  {
   "cell_type": "code",
   "execution_count": 5,
   "metadata": {},
   "outputs": [
    {
     "output_type": "stream",
     "name": "stdout",
     "text": [
      "Best gini spit:  -1.1010001315200912\n"
     ]
    }
   ],
   "source": [
    "# check with numeric data\n",
    "num_df = pd.DataFrame(np.random.randn(20, 1), columns=['con'])\n",
    "\n",
    "num_df = pd.concat([num_df, df['label']], axis=1)\n",
    "\n",
    "# sort by `con`\n",
    "num_df = num_df.sort_values(by='con', ascending=True)\n",
    "num_values = num_df['con'].values\n",
    "\n",
    "mean_list = [np.mean([num_values[i], num_values[i+1]]) for i in range(len(num_values) - 1)]\n",
    "\n",
    "gini_list = []\n",
    "for mean in mean_list:\n",
    "    gini = compute_gini(num_df, num_df['con'] <= mean)\n",
    "    gini_list.append(gini)\n",
    "    \n",
    "\n",
    "print(\"Best gini spit: \", mean_list[np.argmin(gini_list)])\n"
   ]
  },
  {
   "cell_type": "code",
   "execution_count": 6,
   "metadata": {
    "scrolled": false
   },
   "outputs": [],
   "source": [
    "def compute_dtc_gini(df):\n",
    "    gini_list = []\n",
    "    feature_cols = list(df.columns)\n",
    "    \n",
    "    feature_cols.remove('label')\n",
    "    \n",
    "    for col in feature_cols:\n",
    "        gini = 0\n",
    "        for f in df[col].unique():\n",
    "            tmp_df = df.loc[df[col] == f, 'label']\n",
    "            times = Counter(tmp_df)\n",
    "            total  = sum(times.values())\n",
    "            # gini = 1 - sum(prob**2)\n",
    "            gini_part = 1 - np.sum([(v / total)**2 for v in times.values()])\n",
    "            # add with weight\n",
    "            gini_part *= len(tmp_df) / (len(df))\n",
    "            gini += gini_part\n",
    "        print(\"Gini for {} is {}\".format(col, (1 - gini)))\n",
    "        gini_list.append(1 - gini)\n",
    "\n",
    "    \n",
    "    # get best split feature\n",
    "    best_split_feature = feature_cols[np.argmin(gini_list)]\n",
    "    \n",
    "    print(\"Best split feature:\", best_split_feature)\n",
    "    \n",
    "    # split data into new parts\n",
    "    for value in df[best_split_feature].unique():\n",
    "        new_df = df.loc[df[best_split_feature] == value]\n",
    "        if new_df.shape[1] == 1 or  len(new_df) == 0:\n",
    "            break\n",
    "        if len(new_df) <= 5:\n",
    "            return \n",
    "        print(\"*\" * 10 + str(len(new_df)))\n",
    "        compute_dtc_gini(new_df)\n",
    "    \n",
    "# compute_dtc_gini(df)\n",
    "    "
   ]
  },
  {
   "cell_type": "code",
   "execution_count": 7,
   "metadata": {},
   "outputs": [
    {
     "output_type": "execute_result",
     "data": {
      "text/plain": [
       "          a         b     label\n",
       "0 -0.181685 -0.068319  0.457954\n",
       "1 -1.165655  0.274452 -0.187644\n",
       "2  0.955899  0.065044  0.754446\n",
       "3  0.754582  1.018429  1.041094\n",
       "4  2.364820  0.677823 -0.239650"
      ],
      "text/html": "<div>\n<style scoped>\n    .dataframe tbody tr th:only-of-type {\n        vertical-align: middle;\n    }\n\n    .dataframe tbody tr th {\n        vertical-align: top;\n    }\n\n    .dataframe thead th {\n        text-align: right;\n    }\n</style>\n<table border=\"1\" class=\"dataframe\">\n  <thead>\n    <tr style=\"text-align: right;\">\n      <th></th>\n      <th>a</th>\n      <th>b</th>\n      <th>label</th>\n    </tr>\n  </thead>\n  <tbody>\n    <tr>\n      <th>0</th>\n      <td>-0.181685</td>\n      <td>-0.068319</td>\n      <td>0.457954</td>\n    </tr>\n    <tr>\n      <th>1</th>\n      <td>-1.165655</td>\n      <td>0.274452</td>\n      <td>-0.187644</td>\n    </tr>\n    <tr>\n      <th>2</th>\n      <td>0.955899</td>\n      <td>0.065044</td>\n      <td>0.754446</td>\n    </tr>\n    <tr>\n      <th>3</th>\n      <td>0.754582</td>\n      <td>1.018429</td>\n      <td>1.041094</td>\n    </tr>\n    <tr>\n      <th>4</th>\n      <td>2.364820</td>\n      <td>0.677823</td>\n      <td>-0.239650</td>\n    </tr>\n  </tbody>\n</table>\n</div>"
     },
     "metadata": {},
     "execution_count": 7
    }
   ],
   "source": [
    "# For regression tree logic\n",
    "df = pd.DataFrame(np.random.randn(10, 3), columns=['a', 'b', 'label'])\n",
    "\n",
    "df.head()"
   ]
  },
  {
   "cell_type": "code",
   "execution_count": 8,
   "metadata": {},
   "outputs": [],
   "source": [
    "# test for `a`\n",
    "import copy\n",
    "\n",
    "df_a = copy.deepcopy(df[['a', 'label']])\n",
    "\n",
    "# sort value\n",
    "df_a = df_a.sort_values(by='a')\n",
    "\n",
    "value_a = df_a['a'].values\n",
    "\n",
    "# get mean value list\n",
    "mean_value = [np.mean([value_a[i], value_a[i+1]]) for i in range(len(value_a) - 1) ]\n",
    "\n",
    "# get each threashold residual\n",
    "\n",
    "residual_list = []\n",
    "for mean in mean_value:\n",
    "    tmp_left = df_a.loc[df_a['a'] < mean, 'label']\n",
    "    tmp_right = df_a.loc[df_a['a'] >= mean,'label']\n",
    "    \n",
    "    left_pred = tmp_df.mean()\n",
    "    right_pred = tmp_df.mean()\n",
    "    \n",
    "    left_residual = (tmp_left.values - left_pred).mean()\n",
    "    right_residual = (tmp_right.values - right_pred).mean()\n",
    "    \n",
    "    residual = left_residual + right_residual\n",
    "    residual_list.append(residual)\n",
    "    "
   ]
  },
  {
   "cell_type": "code",
   "execution_count": 10,
   "metadata": {},
   "outputs": [
    {
     "output_type": "display_data",
     "data": {
      "text/plain": "<Figure size 432x288 with 1 Axes>",
      "image/png": "[encoded data removed]"
     },
     "metadata": {}
    },
    {
     "output_type": "stream",
     "name": "stdout",
     "text": [
      "split index:  -0.38375098626351967\n"
     ]
    }
   ],
   "source": [
    "import matplotlib.pyplot as plt\n",
    "\n",
    "plt.plot(range(len(residual_list)), residual_list)\n",
    "plt.show()\n",
    "\n",
    "print(\"split index: \", value_a[np.argmin(residual_list)])"
   ]
  },
  {
   "cell_type": "code",
   "execution_count": 11,
   "metadata": {},
   "outputs": [
    {
     "output_type": "execute_result",
     "data": {
      "text/plain": [
       "<matplotlib.collections.PathCollection at 0x24771159240>"
      ]
     },
     "metadata": {},
     "execution_count": 11
    },
    {
     "output_type": "display_data",
     "data": {
      "text/plain": "<Figure size 432x288 with 1 Axes>",
      "image/png": "[encoded data removed]"
     },
     "metadata": {}
    }
   ],
   "source": [
    "# Let's check with nueral network\n",
    "def relu(x):\n",
    "    return np.max(0, x)\n",
    "\n",
    "def sigmoid(x):\n",
    "    return 1 / (1 + np.exp(-x))\n",
    "\n",
    "x_data = np.random.randn(10, 1)\n",
    "y_data = np.random.randint(0, 2, size=(10, 1))\n",
    "\n",
    "plt.scatter(x_data, y_data)"
   ]
  },
  {
   "cell_type": "code",
   "execution_count": 12,
   "metadata": {},
   "outputs": [
    {
     "output_type": "display_data",
     "data": {
      "text/plain": "<Figure size 432x288 with 1 Axes>",
      "image/png": "[encoded data removed]"
     },
     "metadata": {}
    }
   ],
   "source": [
    "# with 2 nuerouns\n",
    "w11 = 1.4\n",
    "b11 = -1\n",
    "\n",
    "w12 = -2.9\n",
    "b12 = 2\n",
    "\n",
    "w21 = -2\n",
    "b21 = 1\n",
    "\n",
    "w22 = 3\n",
    "b22 = -3\n",
    "\n",
    "# nueral 1\n",
    "def mul(data, w, b):\n",
    "    return sigmoid(data * w + b)\n",
    "\n",
    "res_1 = mul(x_data, w11, b11)\n",
    "res_2 = mul(x_data, w12, b12)\n",
    "\n",
    "res_out = mul(res_1, w21, b21) + mul(res_2, w22, b22)\n",
    "\n",
    "plt.scatter(x_data, res_out, label='pred')\n",
    "plt.scatter(x_data, y_data, label='truth')\n",
    "\n",
    "plt.legend()\n",
    "plt.show()"
   ]
  },
  {
   "cell_type": "code",
   "execution_count": 13,
   "metadata": {},
   "outputs": [
    {
     "output_type": "display_data",
     "data": {
      "text/plain": "<Figure size 432x288 with 1 Axes>",
      "image/png": "[encoded data removed]"
     },
     "metadata": {}
    }
   ],
   "source": [
    "plt.scatter(x_data, res_1, label='hidden_1')\n",
    "plt.scatter(x_data, res_2, label='hidden_2')\n",
    "plt.scatter(x_data, y_data, label='truth')\n",
    "\n",
    "plt.scatter(x_data, res_1 + res_2, label='add_res')\n",
    "\n",
    "plt.legend()\n",
    "plt.show()"
   ]
  },
  {
   "cell_type": "code",
   "execution_count": 14,
   "metadata": {},
   "outputs": [
    {
     "output_type": "execute_result",
     "data": {
      "text/plain": [
       "[<matplotlib.lines.Line2D at 0x247712346a0>]"
      ]
     },
     "metadata": {},
     "execution_count": 14
    },
    {
     "output_type": "display_data",
     "data": {
      "text/plain": "<Figure size 432x288 with 1 Axes>",
      "image/png": "[encoded data removed]"
     },
     "metadata": {}
    }
   ],
   "source": [
    "plt.plot(sorted(res_1))"
   ]
  },
  {
   "cell_type": "code",
   "execution_count": 15,
   "metadata": {},
   "outputs": [
    {
     "output_type": "execute_result",
     "data": {
      "text/plain": [
       "array([[0.09782984],\n",
       "       [0.33370319],\n",
       "       [0.61078501],\n",
       "       [0.31913997],\n",
       "       [0.3438402 ],\n",
       "       [0.4401504 ],\n",
       "       [0.04992575],\n",
       "       [0.21967329],\n",
       "       [0.34708034],\n",
       "       [0.55851546]])"
      ]
     },
     "metadata": {},
     "execution_count": 15
    }
   ],
   "source": [
    "res_1"
   ]
  },
  {
   "cell_type": "code",
   "execution_count": null,
   "metadata": {},
   "outputs": [],
   "source": []
  }
 ],
 "metadata": {
  "kernelspec": {
   "name": "python365jvsc74a57bd0a8894775e8aeee242aa6e141c386e0510b6f2108a9b3d20c3f118f8cb925642c",
   "display_name": "Python 3.6.5 64-bit ('base': conda)"
  },
  "language_info": {
   "codemirror_mode": {
    "name": "ipython",
    "version": 3
   },
   "file_extension": ".py",
   "mimetype": "text/x-python",
   "name": "python",
   "nbconvert_exporter": "python",
   "pygments_lexer": "ipython3",
   "version": "3.6.5"
  }
 },
 "nbformat": 4,
 "nbformat_minor": 2
}