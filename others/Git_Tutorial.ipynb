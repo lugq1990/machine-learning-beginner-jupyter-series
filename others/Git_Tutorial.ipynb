{
 "cells": [
  {
   "cell_type": "markdown",
   "metadata": {},
   "source": [
    "## Git\n",
    "\n",
    "Git is a version control system that allow us to coordinate with others to make work done effictively. Git is created by **Linus in only 2 weeks**! Now is the most popular tool used cross world.\n",
    "\n",
    "\n",
    "If there is one thing that should be learned before real work, that's **Git**!\n",
    "\n",
    "\n",
    "But what is `version contraol`? \n",
    "\n",
    "Supporse that there are 2 developers that are working on a project called `auto-ml-cl` that aim to provide a tool that to build machine learning models without any feature engineering, the main file is called `automl.py` file, supporse the same day that these 2 developers are working on this same file but with different functions, they are both have a copy file in their local computer, after a hard work day that there have both finished some functions design, then they need a way to `merge` their work into one place, so that we could make it workable, right? But how to make it? \n",
    "\n",
    "The naive way is that 1th person give the file directly to 2th person and let 2th person to `copy` his work into his own, right? Yes it's way to do it. But if we have 10 person are working on this same file? It's hard to make it just by one person, right? That's **Git** comes in, there is one `central repository` that holds these projects files, and we could `clone` it into our local folder, so what we want on these files, and to store these files in our local, after we have finished, then we could just `commit` to tell git: I have finished, please keep it. We could do it many times we want, and git will remember every time what I have changed, we could even move back to original work. After we have finished full work, then we need to make it into central repository so others will see it and continue their work, that's `pull` to remote server that holds the central repository.\n",
    "\n",
    "\n",
    "That's high level explain for **Git**, this tutorial will give hands-on tutorial for how it works! Get your hands dirty! Let's start!\n"
   ]
  },
  {
   "cell_type": "markdown",
   "metadata": {},
   "source": [
    "### 1. Install Git\n",
    "\n",
    "\n",
    "Linux:\n",
    "\n",
    "\n",
    "If you are using linux then just with command: `sudo apt-get install git`, that's easy right? Yes it's, as git is created for **Linux** community!\n",
    "\n",
    "\n",
    "Windows:\n",
    "\n",
    "First thing is to download git from official website with windows version: [Git Download](https://git-scm.com/downloads). Then just install it like other software."
   ]
  },
  {
   "cell_type": "markdown",
   "metadata": {},
   "source": [
    "### 2. Check Git\n",
    "\n",
    "After we have installed it, then we need to test it is workable, so just open a windows terminal with command: `CMD`, then in the terminal type with `git version` to check that we have already install it correctly!\n",
    "\n",
    "You may be with different version, but that's OK, most daily work will use some most common command that Git provide, so if you do face any version specific problem, don't hesitate to **Google** it!"
   ]
  },
  {
   "cell_type": "code",
   "execution_count": 1,
   "metadata": {},
   "outputs": [
    {
     "name": "stdout",
     "output_type": "stream",
     "text": [
      "Active code page: 65001\n",
      "git version 2.29.0.windows.1\n"
     ]
    }
   ],
   "source": [
    "! git version"
   ]
  },
  {
   "cell_type": "markdown",
   "metadata": {},
   "source": [
    "### 3. Configure Git\n",
    "\n",
    "The first time we should tell git who we are with command: `git config --global user.email \"you@example.com\"` and `git config --global user.name \"Your Name\"`, if you don't need want to make it to global, then remove `global`. \n",
    "\n",
    "As this is tutorial, so I just removed `global` key word."
   ]
  },
  {
   "cell_type": "code",
   "execution_count": 11,
   "metadata": {},
   "outputs": [],
   "source": [
    "%%bash\n",
    "git config user.email \"guangqiang.lu@accenture.com\"\n",
    "git config user.name \"guangqiang.lu\""
   ]
  },
  {
   "cell_type": "markdown",
   "metadata": {},
   "source": [
    "### 4. Create Repository\n",
    "\n",
    "One thing to **highlight** is that full bellow steps should be done either with: `CMD` or `powershell` or `git bash` either is OK! Just type these keyword in `Search` in windows left corner!\n",
    "\n",
    "#### 4. 1 Create a folder\n",
    "\n",
    "Repository is a folder that contains your source code, you could create the folder manually or enter terminal with terminal , either is fine. Enter folder you need with `cd ***`, then create a folder like bellow: `mdkir learngit`, and enter the folder with `cd learngit`."
   ]
  },
  {
   "cell_type": "code",
   "execution_count": 4,
   "metadata": {},
   "outputs": [],
   "source": [
    "%%bash\n",
    "mkdir learngit"
   ]
  },
  {
   "cell_type": "code",
   "execution_count": 5,
   "metadata": {},
   "outputs": [],
   "source": [
    "%%bash\n",
    "cd learngit"
   ]
  },
  {
   "cell_type": "markdown",
   "metadata": {},
   "source": [
    "As I'm in notebook with `cd` not working, so I use Python to enter that folder."
   ]
  },
  {
   "cell_type": "code",
   "execution_count": 6,
   "metadata": {},
   "outputs": [],
   "source": [
    "import os\n",
    "\n",
    "os.chdir('learngit')"
   ]
  },
  {
   "cell_type": "markdown",
   "metadata": {},
   "source": [
    "#### 4.2 Init repository\n",
    "\n",
    "Next we need to tell git that this folder should be tracked! How? with `git init`, then will create a hidden folder named: `.git`. \n",
    "\n",
    "If you couldn't see it, in file folder: click `View`, click `Hidden items`, then you could see that folder."
   ]
  },
  {
   "cell_type": "code",
   "execution_count": 7,
   "metadata": {},
   "outputs": [
    {
     "name": "stdout",
     "output_type": "stream",
     "text": [
      "Initialized empty Git repository in /mnt/c/Users/guangqiiang.lu/Documents/lugq/github/machine-learning-beginner-jupyter-series/others/learngit/.git/\n"
     ]
    }
   ],
   "source": [
    "%%bash\n",
    "git init"
   ]
  },
  {
   "cell_type": "markdown",
   "metadata": {},
   "source": [
    "#### 4.3 Create share file\n",
    "\n",
    "We could start create a shared file like txt or any other source code that needed to be tracked. You could create it any way you want, like right click with `create a new file`."
   ]
  },
  {
   "cell_type": "code",
   "execution_count": 8,
   "metadata": {},
   "outputs": [
    {
     "name": "stdout",
     "output_type": "stream",
     "text": [
      "Writing readme.md\n"
     ]
    }
   ],
   "source": [
    "%%writefile readme.md\n",
    "This is used for git tutorial!"
   ]
  },
  {
   "cell_type": "markdown",
   "metadata": {},
   "source": [
    "#### 4.4 Put file into repository\n",
    "\n",
    "As we have already created file and modified it, now we need to add it into repository(one thing to notice is that current this repository is located in local computer, we will make it into remote server later).\n",
    "\n",
    "There will be 2 steps that we need to take, these 2 commands are used most times:\n",
    "    1. `git add ***`\n",
    "    2. `git commit -m ***`\n",
    "    \n",
    "`git commit -m \"\"` after `-m` is to provide short discription for the reason or what you have done."
   ]
  },
  {
   "cell_type": "code",
   "execution_count": 9,
   "metadata": {},
   "outputs": [],
   "source": [
    "%%bash\n",
    "git add readme.md"
   ]
  },
  {
   "cell_type": "code",
   "execution_count": 12,
   "metadata": {},
   "outputs": [
    {
     "name": "stdout",
     "output_type": "stream",
     "text": [
      "[master (root-commit) d8bf8f1] Add readme.md\n",
      " 1 file changed, 1 insertion(+)\n",
      " create mode 100644 readme.md\n"
     ]
    }
   ],
   "source": [
    "%%bash\n",
    "git commit -m \"Add readme.md\""
   ]
  },
  {
   "cell_type": "markdown",
   "metadata": {},
   "source": [
    "After we commit, then we could get some information ` create mode 100644 readme.md` that git has already helped us create a track for file: `readme.md`, so if there is any change in future, git will help us remember it."
   ]
  },
  {
   "cell_type": "markdown",
   "metadata": {},
   "source": [
    "### 5. Git hands on\n",
    "\n",
    "#### git status\n",
    "\n",
    "\n",
    "We have already create one file, so let's change it to see what will happen in git with command: `git status`"
   ]
  },
  {
   "cell_type": "code",
   "execution_count": 13,
   "metadata": {},
   "outputs": [
    {
     "name": "stdout",
     "output_type": "stream",
     "text": [
      "Overwriting readme.md\n"
     ]
    }
   ],
   "source": [
    "%%writefile readme.md\n",
    "This is used for git tutorial!\n",
    "\n",
    "Add a new line for checking!"
   ]
  },
  {
   "cell_type": "code",
   "execution_count": 14,
   "metadata": {},
   "outputs": [
    {
     "name": "stdout",
     "output_type": "stream",
     "text": [
      "On branch master\n",
      "Changes not staged for commit:\n",
      "  (use \"git add <file>...\" to update what will be committed)\n",
      "  (use \"git checkout -- <file>...\" to discard changes in working directory)\n",
      "\n",
      "\tmodified:   readme.md\n",
      "\n",
      "no changes added to commit (use \"git add\" and/or \"git commit -a\")\n"
     ]
    }
   ],
   "source": [
    "%%bash\n",
    "git status"
   ]
  },
  {
   "cell_type": "markdown",
   "metadata": {},
   "source": [
    "#### git diff\n",
    "\n",
    "So we would like to know what we have chenged with this file, we could get the different part with: `git diff`. So we could see we are trying to add a new line to this file."
   ]
  },
  {
   "cell_type": "code",
   "execution_count": 15,
   "metadata": {},
   "outputs": [
    {
     "name": "stdout",
     "output_type": "stream",
     "text": [
      "diff --git a/readme.md b/readme.md\n",
      "index d087c4a..b033001 100644\n",
      "--- a/readme.md\n",
      "+++ b/readme.md\n",
      "@@ -1 +1,3 @@\n",
      " This is used for git tutorial!\n",
      "+\n",
      "+Add a new line for checking!\n"
     ]
    }
   ],
   "source": [
    "%%bash\n",
    "git diff"
   ]
  },
  {
   "cell_type": "markdown",
   "metadata": {},
   "source": [
    "So that we could see that git tell us there is a change for file: readme.md, let's add our change into repository."
   ]
  },
  {
   "cell_type": "code",
   "execution_count": 16,
   "metadata": {},
   "outputs": [],
   "source": [
    "%%bash\n",
    "git add readme.md"
   ]
  },
  {
   "cell_type": "code",
   "execution_count": 17,
   "metadata": {},
   "outputs": [
    {
     "name": "stdout",
     "output_type": "stream",
     "text": [
      "[master 8622a90] Change readme.md\n",
      " 1 file changed, 2 insertions(+)\n"
     ]
    }
   ],
   "source": [
    "%%bash\n",
    "git commit -m \"Change readme.md\""
   ]
  },
  {
   "cell_type": "markdown",
   "metadata": {},
   "source": [
    "We could try to confirm that our work tree is clean with command: git status."
   ]
  },
  {
   "cell_type": "code",
   "execution_count": 18,
   "metadata": {},
   "outputs": [
    {
     "name": "stdout",
     "output_type": "stream",
     "text": [
      "On branch master\n",
      "nothing to commit, working tree clean\n"
     ]
    }
   ],
   "source": [
    "%%bash\n",
    "git status"
   ]
  },
  {
   "cell_type": "markdown",
   "metadata": {},
   "source": [
    "#### git log\n",
    "\n",
    "If we would try to get our work history, we could do it with: `git log`, we could see that there are 2 commit history with ID, name, date and file change."
   ]
  },
  {
   "cell_type": "code",
   "execution_count": 19,
   "metadata": {},
   "outputs": [
    {
     "name": "stdout",
     "output_type": "stream",
     "text": [
      "commit 8622a901a77e8175d635181572e5a2ce90a188f3\n",
      "Author: guangqiang.lu <guangqiang.lu@accenture.com>\n",
      "Date:   Tue Jul 20 14:38:13 2021 +0800\n",
      "\n",
      "    Change readme.md\n",
      "\n",
      "commit d8bf8f12c01328ba48ff9143f36b9126091b0812\n",
      "Author: guangqiang.lu <guangqiang.lu@accenture.com>\n",
      "Date:   Tue Jul 20 14:36:05 2021 +0800\n",
      "\n",
      "    Add readme.md\n"
     ]
    }
   ],
   "source": [
    "%%bash\n",
    "git log"
   ]
  },
  {
   "cell_type": "markdown",
   "metadata": {},
   "source": [
    "If there are too many for us, then we could add `--pretty=oneline` to get only main work with short des."
   ]
  },
  {
   "cell_type": "code",
   "execution_count": 21,
   "metadata": {},
   "outputs": [
    {
     "name": "stdout",
     "output_type": "stream",
     "text": [
      "8622a901a77e8175d635181572e5a2ce90a188f3 Change readme.md\n",
      "d8bf8f12c01328ba48ff9143f36b9126091b0812 Add readme.md\n"
     ]
    }
   ],
   "source": [
    "%%bash\n",
    "git log --pretty=oneline"
   ]
  },
  {
   "cell_type": "markdown",
   "metadata": {},
   "source": [
    "#### git reset\n",
    "\n",
    "If we don't want our latest work to be moved into production, we could try to go to which version we need, for now there are 2 versions, supporse I want to go to first version, we could make it with: git reset "
   ]
  },
  {
   "cell_type": "code",
   "execution_count": 26,
   "metadata": {},
   "outputs": [
    {
     "name": "stdout",
     "output_type": "stream",
     "text": [
      "HEAD is now at d8bf8f1 Add readme.md\n"
     ]
    }
   ],
   "source": [
    "%%bash\n",
    "git reset --hard head^"
   ]
  },
  {
   "cell_type": "code",
   "execution_count": 27,
   "metadata": {},
   "outputs": [
    {
     "name": "stdout",
     "output_type": "stream",
     "text": [
      "d8bf8f12c01328ba48ff9143f36b9126091b0812 Add readme.md\n"
     ]
    }
   ],
   "source": [
    "%%bash\n",
    "## check log, so that you could see that we are on first version.\n",
    "git log --pretty=oneline"
   ]
  },
  {
   "cell_type": "code",
   "execution_count": 28,
   "metadata": {},
   "outputs": [
    {
     "name": "stdout",
     "output_type": "stream",
     "text": [
      "HEAD is now at d8bf8f1 Add readme.md\n"
     ]
    }
   ],
   "source": [
    "%%bash\n",
    "# we could try to go to any version we like with that id, the first string of log with short string\n",
    "git reset --hard d8bf8f12c01"
   ]
  },
  {
   "cell_type": "code",
   "execution_count": 29,
   "metadata": {},
   "outputs": [
    {
     "name": "stdout",
     "output_type": "stream",
     "text": [
      "d8bf8f12c01328ba48ff9143f36b9126091b0812 Add readme.md\n"
     ]
    }
   ],
   "source": [
    "%%bash\n",
    "git log --pretty=oneline"
   ]
  },
  {
   "cell_type": "markdown",
   "metadata": {},
   "source": [
    "#### git checkout\n",
    "\n",
    "Sometimes we have already added our work into work folder with `git add`, then we don't need it to be added, how to remove? With git checkout."
   ]
  },
  {
   "cell_type": "code",
   "execution_count": 58,
   "metadata": {},
   "outputs": [
    {
     "name": "stdout",
     "output_type": "stream",
     "text": [
      "Overwriting readme.md\n"
     ]
    }
   ],
   "source": [
    "%%writefile readme.md\n",
    "This is used for git tutorial!\n",
    "\n",
    "Add a new line for checking!\n",
    "\n",
    "This is new added"
   ]
  },
  {
   "cell_type": "code",
   "execution_count": 59,
   "metadata": {},
   "outputs": [
    {
     "name": "stdout",
     "output_type": "stream",
     "text": [
      "On branch master\n",
      "Changes not staged for commit:\n",
      "  (use \"git add <file>...\" to update what will be committed)\n",
      "  (use \"git checkout -- <file>...\" to discard changes in working directory)\n",
      "\n",
      "\tmodified:   readme.md\n",
      "\n",
      "no changes added to commit (use \"git add\" and/or \"git commit -a\")\n"
     ]
    }
   ],
   "source": [
    "%%bash\n",
    "git status"
   ]
  },
  {
   "cell_type": "code",
   "execution_count": 60,
   "metadata": {},
   "outputs": [],
   "source": [
    "%%bash\n",
    "# remove added\n",
    "git checkout -- readme.md"
   ]
  },
  {
   "cell_type": "code",
   "execution_count": 61,
   "metadata": {},
   "outputs": [
    {
     "name": "stdout",
     "output_type": "stream",
     "text": [
      "This is used for git tutorial!\n"
     ]
    }
   ],
   "source": [
    "%%bash\n",
    "# so that we see that change has been removed.\n",
    "cat readme.md"
   ]
  },
  {
   "cell_type": "markdown",
   "metadata": {},
   "source": [
    "#### git remove\n",
    "\n",
    "If we need to remove some files from our repository, use with `git remove`."
   ]
  },
  {
   "cell_type": "code",
   "execution_count": 62,
   "metadata": {},
   "outputs": [],
   "source": [
    "%%bash\n",
    "# remove readme.md\n",
    "rm readme.md"
   ]
  },
  {
   "cell_type": "code",
   "execution_count": 63,
   "metadata": {},
   "outputs": [
    {
     "name": "stdout",
     "output_type": "stream",
     "text": [
      "On branch master\n",
      "Changes not staged for commit:\n",
      "  (use \"git add/rm <file>...\" to update what will be committed)\n",
      "  (use \"git checkout -- <file>...\" to discard changes in working directory)\n",
      "\n",
      "\tdeleted:    readme.md\n",
      "\n",
      "no changes added to commit (use \"git add\" and/or \"git commit -a\")\n"
     ]
    }
   ],
   "source": [
    "%%bash\n",
    "# check current status that we have deleted file\n",
    "git status"
   ]
  },
  {
   "cell_type": "code",
   "execution_count": 64,
   "metadata": {},
   "outputs": [],
   "source": [
    "%%bash\n",
    "# let's remove the files in repository\n",
    "# If there are many changed files, we could try to use: git add . \n",
    "# to make full files.\n",
    "git add ."
   ]
  },
  {
   "cell_type": "code",
   "execution_count": 65,
   "metadata": {},
   "outputs": [
    {
     "name": "stdout",
     "output_type": "stream",
     "text": [
      "[master a2c16d7] Remove readme.md\n",
      " 1 file changed, 1 deletion(-)\n",
      " delete mode 100644 readme.md\n"
     ]
    }
   ],
   "source": [
    "%%bash\n",
    "git commit -m \"Remove readme.md\""
   ]
  },
  {
   "cell_type": "markdown",
   "metadata": {},
   "source": [
    "### 6. Git branch\n",
    "\n",
    "One important thing that need to be clear is that we could try to use different `branch` to seperate our `development` and `production` code, so they could be different for each environment, we could do change on `dev` branch, after we have tested, we could merge into `prd` branch.\n",
    "\n",
    "Always we have **master** branch that should be the main branch for full circle and it should be in production env's code. So what you should work should create a new branch base on master and develop on that branch, after tested then merge it into master!\n",
    "\n",
    "Let's try it out."
   ]
  },
  {
   "cell_type": "code",
   "execution_count": 66,
   "metadata": {},
   "outputs": [
    {
     "name": "stderr",
     "output_type": "stream",
     "text": [
      "Switched to a new branch 'dev'\n"
     ]
    }
   ],
   "source": [
    "%%bash\n",
    "# first try to create dev branch\n",
    "# and now we are in dev branch.\n",
    "git checkout -b dev"
   ]
  },
  {
   "cell_type": "code",
   "execution_count": 67,
   "metadata": {},
   "outputs": [
    {
     "name": "stdout",
     "output_type": "stream",
     "text": [
      "* dev\n",
      "  master\n"
     ]
    }
   ],
   "source": [
    "%%bash\n",
    "# check which branch we are, * is where we are, \n",
    "git branch"
   ]
  },
  {
   "cell_type": "code",
   "execution_count": 70,
   "metadata": {},
   "outputs": [
    {
     "name": "stdout",
     "output_type": "stream",
     "text": [
      "Overwriting readme.md\n"
     ]
    }
   ],
   "source": [
    "%%writefile readme.md\n",
    "# make a file in dev branch\n",
    "This is dev branch now!"
   ]
  },
  {
   "cell_type": "code",
   "execution_count": 71,
   "metadata": {},
   "outputs": [
    {
     "name": "stdout",
     "output_type": "stream",
     "text": [
      "On branch dev\n",
      "Untracked files:\n",
      "  (use \"git add <file>...\" to include in what will be committed)\n",
      "\n",
      "\treadme.md\n",
      "\n",
      "nothing added to commit but untracked files present (use \"git add\" to track)\n"
     ]
    }
   ],
   "source": [
    "%%bash\n",
    "# check status\n",
    "git status"
   ]
  },
  {
   "cell_type": "code",
   "execution_count": 72,
   "metadata": {},
   "outputs": [],
   "source": [
    "%%bash\n",
    "# add it into work space\n",
    "git add ."
   ]
  },
  {
   "cell_type": "code",
   "execution_count": 73,
   "metadata": {},
   "outputs": [
    {
     "name": "stdout",
     "output_type": "stream",
     "text": [
      "[dev 39484f0] Add readme.md into dev branch\n",
      " 1 file changed, 2 insertions(+)\n",
      " create mode 100644 readme.md\n"
     ]
    }
   ],
   "source": [
    "%%bash\n",
    "git commit -m \"Add readme.md into dev branch\""
   ]
  },
  {
   "cell_type": "code",
   "execution_count": 75,
   "metadata": {},
   "outputs": [
    {
     "name": "stdout",
     "output_type": "stream",
     "text": [
      "39484f067648b6b634f561f68f20ab83b3a4b446 Add readme.md into dev branch\n",
      "a2c16d70e63f8b097898f8c374dadf9bd84e174d Remove readme.md\n",
      "d8bf8f12c01328ba48ff9143f36b9126091b0812 Add readme.md\n"
     ]
    }
   ],
   "source": [
    "%%bash\n",
    "# check log\n",
    "git log --pretty=oneline"
   ]
  },
  {
   "cell_type": "code",
   "execution_count": 76,
   "metadata": {},
   "outputs": [
    {
     "name": "stderr",
     "output_type": "stream",
     "text": [
      "Switched to branch 'master'\n"
     ]
    }
   ],
   "source": [
    "%%bash\n",
    "# checkout to master\n",
    "git checkout master"
   ]
  },
  {
   "cell_type": "code",
   "execution_count": 77,
   "metadata": {},
   "outputs": [
    {
     "name": "stdout",
     "output_type": "stream",
     "text": [
      "Updating a2c16d7..39484f0\n",
      "Fast-forward\n",
      " readme.md | 2 ++\n",
      " 1 file changed, 2 insertions(+)\n",
      " create mode 100644 readme.md\n"
     ]
    }
   ],
   "source": [
    "%%bash\n",
    "# merge dev branch\n",
    "git merge dev"
   ]
  },
  {
   "cell_type": "code",
   "execution_count": 80,
   "metadata": {},
   "outputs": [
    {
     "name": "stdout",
     "output_type": "stream",
     "text": [
      "  dev\n",
      "* master\n"
     ]
    }
   ],
   "source": [
    "%%bash\n",
    "# check which branch we are, so we are in master\n",
    "git branch"
   ]
  },
  {
   "cell_type": "code",
   "execution_count": 79,
   "metadata": {},
   "outputs": [
    {
     "name": "stdout",
     "output_type": "stream",
     "text": [
      "# make a file in dev branch\n",
      "This is dev branch now!\n"
     ]
    }
   ],
   "source": [
    "%%bash\n",
    "# so we see that we made our change into master\n",
    "cat readme.md"
   ]
  },
  {
   "cell_type": "code",
   "execution_count": 81,
   "metadata": {},
   "outputs": [
    {
     "name": "stdout",
     "output_type": "stream",
     "text": [
      "Deleted branch dev (was 39484f0).\n"
     ]
    }
   ],
   "source": [
    "%%bash\n",
    "# after we have merge our branch into master, we could delete current dev branch\n",
    "git branch -d dev"
   ]
  },
  {
   "cell_type": "code",
   "execution_count": 82,
   "metadata": {},
   "outputs": [
    {
     "name": "stdout",
     "output_type": "stream",
     "text": [
      "* master\n"
     ]
    }
   ],
   "source": [
    "%%bash\n",
    "git branch"
   ]
  },
  {
   "cell_type": "markdown",
   "metadata": {},
   "source": [
    "The last important thing is to notice is that when we try to merge some branch we may face that they are working on the same line of file, git won't know how to solve it, we need to manually solve these conflicts."
   ]
  },
  {
   "cell_type": "code",
   "execution_count": 102,
   "metadata": {},
   "outputs": [
    {
     "name": "stdout",
     "output_type": "stream",
     "text": [
      "Overwriting readme.md\n"
     ]
    }
   ],
   "source": [
    "%%writefile readme.md\n",
    "# make a file in master branch\n",
    "This is dev branch now!"
   ]
  },
  {
   "cell_type": "code",
   "execution_count": 104,
   "metadata": {},
   "outputs": [
    {
     "name": "stdout",
     "output_type": "stream",
     "text": [
      "[master 1fad4ca] change in master branch\n",
      " 1 file changed, 1 insertion(+), 1 deletion(-)\n"
     ]
    }
   ],
   "source": [
    "%%bash\n",
    "git add .\n",
    "git commit -m \"change in master branch\""
   ]
  },
  {
   "cell_type": "code",
   "execution_count": 105,
   "metadata": {},
   "outputs": [
    {
     "name": "stderr",
     "output_type": "stream",
     "text": [
      "Switched to branch 'dev'\n"
     ]
    }
   ],
   "source": [
    "%%bash\n",
    "# checkout a new branch\n",
    "git checkout dev"
   ]
  },
  {
   "cell_type": "code",
   "execution_count": 108,
   "metadata": {},
   "outputs": [
    {
     "name": "stdout",
     "output_type": "stream",
     "text": [
      "Overwriting readme.md\n"
     ]
    }
   ],
   "source": [
    "%%writefile readme.md\n",
    "# make a file in new dev branch\n",
    "This is dev branch now!"
   ]
  },
  {
   "cell_type": "code",
   "execution_count": 109,
   "metadata": {},
   "outputs": [
    {
     "name": "stdout",
     "output_type": "stream",
     "text": [
      "[dev f17f5d7] change in dev branch\n",
      " 1 file changed, 1 insertion(+), 1 deletion(-)\n"
     ]
    }
   ],
   "source": [
    "%%bash\n",
    "git add .\n",
    "git commit -m \"change in dev branch\""
   ]
  },
  {
   "cell_type": "code",
   "execution_count": 110,
   "metadata": {},
   "outputs": [
    {
     "name": "stderr",
     "output_type": "stream",
     "text": [
      "Switched to branch 'master'\n"
     ]
    }
   ],
   "source": [
    "%%bash\n",
    "git checkout master"
   ]
  },
  {
   "cell_type": "markdown",
   "metadata": {},
   "source": [
    "So that we could see when we try to merge dev branch we get error that `CONFLICT (content): Merge conflict in readme.md`, so we need to manually solve this."
   ]
  },
  {
   "cell_type": "code",
   "execution_count": 111,
   "metadata": {},
   "outputs": [
    {
     "name": "stdout",
     "output_type": "stream",
     "text": [
      "Auto-merging readme.md\n",
      "CONFLICT (content): Merge conflict in readme.md\n",
      "Automatic merge failed; fix conflicts and then commit the result.\n"
     ]
    },
    {
     "ename": "CalledProcessError",
     "evalue": "Command 'b'git merge dev\\n'' returned non-zero exit status 1.",
     "output_type": "error",
     "traceback": [
      "\u001b[1;31m---------------------------------------------------------------------------\u001b[0m",
      "\u001b[1;31mCalledProcessError\u001b[0m                        Traceback (most recent call last)",
      "\u001b[1;32m<ipython-input-111-7e2b00530b96>\u001b[0m in \u001b[0;36m<module>\u001b[1;34m\u001b[0m\n\u001b[1;32m----> 1\u001b[1;33m \u001b[0mget_ipython\u001b[0m\u001b[1;33m(\u001b[0m\u001b[1;33m)\u001b[0m\u001b[1;33m.\u001b[0m\u001b[0mrun_cell_magic\u001b[0m\u001b[1;33m(\u001b[0m\u001b[1;34m'bash'\u001b[0m\u001b[1;33m,\u001b[0m \u001b[1;34m''\u001b[0m\u001b[1;33m,\u001b[0m \u001b[1;34m'git merge dev\\n'\u001b[0m\u001b[1;33m)\u001b[0m\u001b[1;33m\u001b[0m\u001b[0m\n\u001b[0m",
      "\u001b[1;32mC:\\Users\\Public\\anaconda\\lib\\site-packages\\IPython\\core\\interactiveshell.py\u001b[0m in \u001b[0;36mrun_cell_magic\u001b[1;34m(self, magic_name, line, cell)\u001b[0m\n\u001b[0;32m   2357\u001b[0m             \u001b[1;32mwith\u001b[0m \u001b[0mself\u001b[0m\u001b[1;33m.\u001b[0m\u001b[0mbuiltin_trap\u001b[0m\u001b[1;33m:\u001b[0m\u001b[1;33m\u001b[0m\u001b[0m\n\u001b[0;32m   2358\u001b[0m                 \u001b[0margs\u001b[0m \u001b[1;33m=\u001b[0m \u001b[1;33m(\u001b[0m\u001b[0mmagic_arg_s\u001b[0m\u001b[1;33m,\u001b[0m \u001b[0mcell\u001b[0m\u001b[1;33m)\u001b[0m\u001b[1;33m\u001b[0m\u001b[0m\n\u001b[1;32m-> 2359\u001b[1;33m                 \u001b[0mresult\u001b[0m \u001b[1;33m=\u001b[0m \u001b[0mfn\u001b[0m\u001b[1;33m(\u001b[0m\u001b[1;33m*\u001b[0m\u001b[0margs\u001b[0m\u001b[1;33m,\u001b[0m \u001b[1;33m**\u001b[0m\u001b[0mkwargs\u001b[0m\u001b[1;33m)\u001b[0m\u001b[1;33m\u001b[0m\u001b[0m\n\u001b[0m\u001b[0;32m   2360\u001b[0m             \u001b[1;32mreturn\u001b[0m \u001b[0mresult\u001b[0m\u001b[1;33m\u001b[0m\u001b[0m\n\u001b[0;32m   2361\u001b[0m \u001b[1;33m\u001b[0m\u001b[0m\n",
      "\u001b[1;32mC:\\Users\\Public\\anaconda\\lib\\site-packages\\IPython\\core\\magics\\script.py\u001b[0m in \u001b[0;36mnamed_script_magic\u001b[1;34m(line, cell)\u001b[0m\n\u001b[0;32m    140\u001b[0m             \u001b[1;32melse\u001b[0m\u001b[1;33m:\u001b[0m\u001b[1;33m\u001b[0m\u001b[0m\n\u001b[0;32m    141\u001b[0m                 \u001b[0mline\u001b[0m \u001b[1;33m=\u001b[0m \u001b[0mscript\u001b[0m\u001b[1;33m\u001b[0m\u001b[0m\n\u001b[1;32m--> 142\u001b[1;33m             \u001b[1;32mreturn\u001b[0m \u001b[0mself\u001b[0m\u001b[1;33m.\u001b[0m\u001b[0mshebang\u001b[0m\u001b[1;33m(\u001b[0m\u001b[0mline\u001b[0m\u001b[1;33m,\u001b[0m \u001b[0mcell\u001b[0m\u001b[1;33m)\u001b[0m\u001b[1;33m\u001b[0m\u001b[0m\n\u001b[0m\u001b[0;32m    143\u001b[0m \u001b[1;33m\u001b[0m\u001b[0m\n\u001b[0;32m    144\u001b[0m         \u001b[1;31m# write a basic docstring:\u001b[0m\u001b[1;33m\u001b[0m\u001b[1;33m\u001b[0m\u001b[0m\n",
      "\u001b[1;32m<decorator-gen-111>\u001b[0m in \u001b[0;36mshebang\u001b[1;34m(self, line, cell)\u001b[0m\n",
      "\u001b[1;32mC:\\Users\\Public\\anaconda\\lib\\site-packages\\IPython\\core\\magic.py\u001b[0m in \u001b[0;36m<lambda>\u001b[1;34m(f, *a, **k)\u001b[0m\n\u001b[0;32m    185\u001b[0m     \u001b[1;31m# but it's overkill for just that one bit of state.\u001b[0m\u001b[1;33m\u001b[0m\u001b[1;33m\u001b[0m\u001b[0m\n\u001b[0;32m    186\u001b[0m     \u001b[1;32mdef\u001b[0m \u001b[0mmagic_deco\u001b[0m\u001b[1;33m(\u001b[0m\u001b[0marg\u001b[0m\u001b[1;33m)\u001b[0m\u001b[1;33m:\u001b[0m\u001b[1;33m\u001b[0m\u001b[0m\n\u001b[1;32m--> 187\u001b[1;33m         \u001b[0mcall\u001b[0m \u001b[1;33m=\u001b[0m \u001b[1;32mlambda\u001b[0m \u001b[0mf\u001b[0m\u001b[1;33m,\u001b[0m \u001b[1;33m*\u001b[0m\u001b[0ma\u001b[0m\u001b[1;33m,\u001b[0m \u001b[1;33m**\u001b[0m\u001b[0mk\u001b[0m\u001b[1;33m:\u001b[0m \u001b[0mf\u001b[0m\u001b[1;33m(\u001b[0m\u001b[1;33m*\u001b[0m\u001b[0ma\u001b[0m\u001b[1;33m,\u001b[0m \u001b[1;33m**\u001b[0m\u001b[0mk\u001b[0m\u001b[1;33m)\u001b[0m\u001b[1;33m\u001b[0m\u001b[0m\n\u001b[0m\u001b[0;32m    188\u001b[0m \u001b[1;33m\u001b[0m\u001b[0m\n\u001b[0;32m    189\u001b[0m         \u001b[1;32mif\u001b[0m \u001b[0mcallable\u001b[0m\u001b[1;33m(\u001b[0m\u001b[0marg\u001b[0m\u001b[1;33m)\u001b[0m\u001b[1;33m:\u001b[0m\u001b[1;33m\u001b[0m\u001b[0m\n",
      "\u001b[1;32mC:\\Users\\Public\\anaconda\\lib\\site-packages\\IPython\\core\\magics\\script.py\u001b[0m in \u001b[0;36mshebang\u001b[1;34m(self, line, cell)\u001b[0m\n\u001b[0;32m    243\u001b[0m             \u001b[0msys\u001b[0m\u001b[1;33m.\u001b[0m\u001b[0mstderr\u001b[0m\u001b[1;33m.\u001b[0m\u001b[0mflush\u001b[0m\u001b[1;33m(\u001b[0m\u001b[1;33m)\u001b[0m\u001b[1;33m\u001b[0m\u001b[0m\n\u001b[0;32m    244\u001b[0m         \u001b[1;32mif\u001b[0m \u001b[0margs\u001b[0m\u001b[1;33m.\u001b[0m\u001b[0mraise_error\u001b[0m \u001b[1;32mand\u001b[0m \u001b[0mp\u001b[0m\u001b[1;33m.\u001b[0m\u001b[0mreturncode\u001b[0m\u001b[1;33m!=\u001b[0m\u001b[1;36m0\u001b[0m\u001b[1;33m:\u001b[0m\u001b[1;33m\u001b[0m\u001b[0m\n\u001b[1;32m--> 245\u001b[1;33m             \u001b[1;32mraise\u001b[0m \u001b[0mCalledProcessError\u001b[0m\u001b[1;33m(\u001b[0m\u001b[0mp\u001b[0m\u001b[1;33m.\u001b[0m\u001b[0mreturncode\u001b[0m\u001b[1;33m,\u001b[0m \u001b[0mcell\u001b[0m\u001b[1;33m,\u001b[0m \u001b[0moutput\u001b[0m\u001b[1;33m=\u001b[0m\u001b[0mout\u001b[0m\u001b[1;33m,\u001b[0m \u001b[0mstderr\u001b[0m\u001b[1;33m=\u001b[0m\u001b[0merr\u001b[0m\u001b[1;33m)\u001b[0m\u001b[1;33m\u001b[0m\u001b[0m\n\u001b[0m\u001b[0;32m    246\u001b[0m \u001b[1;33m\u001b[0m\u001b[0m\n\u001b[0;32m    247\u001b[0m     \u001b[1;32mdef\u001b[0m \u001b[0m_run_script\u001b[0m\u001b[1;33m(\u001b[0m\u001b[0mself\u001b[0m\u001b[1;33m,\u001b[0m \u001b[0mp\u001b[0m\u001b[1;33m,\u001b[0m \u001b[0mcell\u001b[0m\u001b[1;33m,\u001b[0m \u001b[0mto_close\u001b[0m\u001b[1;33m)\u001b[0m\u001b[1;33m:\u001b[0m\u001b[1;33m\u001b[0m\u001b[0m\n",
      "\u001b[1;31mCalledProcessError\u001b[0m: Command 'b'git merge dev\\n'' returned non-zero exit status 1."
     ]
    }
   ],
   "source": [
    "%%bash\n",
    "git merge dev"
   ]
  },
  {
   "cell_type": "code",
   "execution_count": 112,
   "metadata": {},
   "outputs": [
    {
     "name": "stdout",
     "output_type": "stream",
     "text": [
      "<<<<<<< HEAD\n",
      "# make a file in master branch\n",
      "=======\n",
      "# make a file in new dev branch\n",
      ">>>>>>> dev\n",
      "This is dev branch now!\n"
     ]
    }
   ],
   "source": [
    "%%bash \n",
    "# now to check this file\n",
    "cat readme.md"
   ]
  },
  {
   "cell_type": "markdown",
   "metadata": {},
   "source": [
    "What I mean manually sovle is that we need to open this file and `remove or change` some parts that we don't need for master branch and `save` it.\n",
    "\n",
    "After I have manually changed it from local, then we could add it into our master again."
   ]
  },
  {
   "cell_type": "code",
   "execution_count": 113,
   "metadata": {},
   "outputs": [
    {
     "name": "stdout",
     "output_type": "stream",
     "text": [
      "# make a file in master branch\n",
      "This is dev branch now!\n"
     ]
    }
   ],
   "source": [
    "%%bash \n",
    "# now to check this file\n",
    "cat readme.md"
   ]
  },
  {
   "cell_type": "code",
   "execution_count": 115,
   "metadata": {},
   "outputs": [
    {
     "name": "stdout",
     "output_type": "stream",
     "text": [
      "[master e79f0a8] Already solved conflict\n"
     ]
    }
   ],
   "source": [
    "%%bash\n",
    "git add .\n",
    "git commit -m \"Already solved conflict\""
   ]
  },
  {
   "cell_type": "code",
   "execution_count": 116,
   "metadata": {},
   "outputs": [
    {
     "name": "stdout",
     "output_type": "stream",
     "text": [
      "e79f0a8e26faf13560e76488476be007b49f7ded Already solved conflict\n",
      "f17f5d74724a70ac470e02e9794bf9612ce2bb3f change in dev branch\n",
      "1fad4ca40a92518f3f2d013b4844d8b7756b8533 change in master branch\n",
      "268f854554afe65a6d5648cdabb422cff48fff58 change in dev branch\n",
      "6ddf8c022a24a88137bc1aaf05d88eb7257f814f change in dev branch\n",
      "39484f067648b6b634f561f68f20ab83b3a4b446 Add readme.md into dev branch\n",
      "a2c16d70e63f8b097898f8c374dadf9bd84e174d Remove readme.md\n",
      "d8bf8f12c01328ba48ff9143f36b9126091b0812 Add readme.md\n"
     ]
    }
   ],
   "source": [
    "%%bash\n",
    "git log --pretty=oneline"
   ]
  },
  {
   "cell_type": "markdown",
   "metadata": {},
   "source": [
    "### Final words\n",
    "\n",
    "This is a hands-on tutorial for **Git**, git is really a powerful tool that we should learn it and use it!\n",
    "\n",
    "**Happy Learning Git**!"
   ]
  }
 ],
 "metadata": {
  "kernelspec": {
   "display_name": "Python 3",
   "language": "python",
   "name": "python3"
  },
  "language_info": {
   "codemirror_mode": {
    "name": "ipython",
    "version": 3
   },
   "file_extension": ".py",
   "mimetype": "text/x-python",
   "name": "python",
   "nbconvert_exporter": "python",
   "pygments_lexer": "ipython3",
   "version": "3.6.5"
  }
 },
 "nbformat": 4,
 "nbformat_minor": 2
}
